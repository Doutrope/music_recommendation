{
 "cells": [
  {
   "cell_type": "markdown",
   "metadata": {},
   "source": [
    "# Is arousal well distributed among recommendation batchs?"
   ]
  },
  {
   "cell_type": "code",
   "execution_count": 1,
   "metadata": {
    "scrolled": false
   },
   "outputs": [
    {
     "data": {
      "text/plain": [
       "<matplotlib.figure.Figure at 0x7f05e4d96e10>"
      ]
     },
     "metadata": {},
     "output_type": "display_data"
    }
   ],
   "source": [
    "import pandas as pd\n",
    "import matplotlib.pyplot as plt\n",
    "\n",
    "# get data\n",
    "ar_val = pd.read_csv(\"/home/sacha/Docker/reco_docker_arousal/Recommender/data/arousal_valence.csv\")\n",
    "metadata = pd.read_csv(\"/home/sacha/Docker/reco_docker_arousal/Recommender/data/metadata.csv\")\n",
    "sim = pd.read_csv(\"/home/sacha/Docker/reco_docker_arousal/Recommender/data/similarities.csv\")\n",
    "\n",
    "# change arousal to int in order to be able to plot distribution\n",
    "ar_val['arousal'] = ar_val.arousal.astype(int) \n",
    "distrib = ar_val.groupby(['arousal']).agg('size') / ar_val.shape[0]\n",
    "plt.plot(distrib)\n",
    "plt.xlabel(\"arousal\")\n",
    "plt.ylabel(\"proportion\")\n",
    "plt.title(\"arousal distribution in dataset\")\n",
    "plt.show()"
   ]
  },
  {
   "cell_type": "markdown",
   "metadata": {},
   "source": [
    "# We define 3 scales of arousal :\n",
    "### From 0 to 53 : Chill songs"
   ]
  },
  {
   "cell_type": "code",
   "execution_count": 16,
   "metadata": {},
   "outputs": [
    {
     "name": "stdout",
     "output_type": "stream",
     "text": [
      "25035 chill tracks\n"
     ]
    },
    {
     "data": {
      "text/html": [
       "<div>\n",
       "<style scoped>\n",
       "    .dataframe tbody tr th:only-of-type {\n",
       "        vertical-align: middle;\n",
       "    }\n",
       "\n",
       "    .dataframe tbody tr th {\n",
       "        vertical-align: top;\n",
       "    }\n",
       "\n",
       "    .dataframe thead th {\n",
       "        text-align: right;\n",
       "    }\n",
       "</style>\n",
       "<table border=\"1\" class=\"dataframe\">\n",
       "  <thead>\n",
       "    <tr style=\"text-align: right;\">\n",
       "      <th></th>\n",
       "      <th>artist</th>\n",
       "      <th>track</th>\n",
       "      <th>arousal</th>\n",
       "      <th>preview</th>\n",
       "    </tr>\n",
       "  </thead>\n",
       "  <tbody>\n",
       "    <tr>\n",
       "      <th>23343</th>\n",
       "      <td>Peter Von Poehl</td>\n",
       "      <td>Tooth Fairy</td>\n",
       "      <td>42</td>\n",
       "      <td>https://e-cdns-preview-2.dzcdn.net/stream/28c90927299374c775c60ea547ee7ebd-2.mp3</td>\n",
       "    </tr>\n",
       "    <tr>\n",
       "      <th>17316</th>\n",
       "      <td>Local Natives</td>\n",
       "      <td>Breakers</td>\n",
       "      <td>51</td>\n",
       "      <td>https://e-cdns-preview-0.dzcdn.net/stream/0c6167d2dc2445322c08e28c56849c6a-2.mp3</td>\n",
       "    </tr>\n",
       "    <tr>\n",
       "      <th>7238</th>\n",
       "      <td>L5</td>\n",
       "      <td>Te Garder Près De Moi</td>\n",
       "      <td>52</td>\n",
       "      <td>https://e-cdns-preview-d.dzcdn.net/stream/d7192dade94cbb816aa8fdb0fba3bc07-4.mp3</td>\n",
       "    </tr>\n",
       "    <tr>\n",
       "      <th>16644</th>\n",
       "      <td>Ludovico Einaudi &amp; Ballaké Sissoko</td>\n",
       "      <td>Laissez Moi En Paix</td>\n",
       "      <td>36</td>\n",
       "      <td>https://e-cdns-preview-6.dzcdn.net/stream/6f05265354bf4d51ddc3c06daaf67e6d-1.mp3</td>\n",
       "    </tr>\n",
       "  </tbody>\n",
       "</table>\n",
       "</div>"
      ],
      "text/plain": [
       "                                   artist                  track  arousal  \\\n",
       "23343  Peter Von Poehl                     Tooth Fairy            42        \n",
       "17316  Local Natives                       Breakers               51        \n",
       "7238   L5                                  Te Garder Près De Moi  52        \n",
       "16644  Ludovico Einaudi & Ballaké Sissoko  Laissez Moi En Paix    36        \n",
       "\n",
       "                                                                                preview  \n",
       "23343  https://e-cdns-preview-2.dzcdn.net/stream/28c90927299374c775c60ea547ee7ebd-2.mp3  \n",
       "17316  https://e-cdns-preview-0.dzcdn.net/stream/0c6167d2dc2445322c08e28c56849c6a-2.mp3  \n",
       "7238   https://e-cdns-preview-d.dzcdn.net/stream/d7192dade94cbb816aa8fdb0fba3bc07-4.mp3  \n",
       "16644  https://e-cdns-preview-6.dzcdn.net/stream/6f05265354bf4d51ddc3c06daaf67e6d-1.mp3  "
      ]
     },
     "execution_count": 16,
     "metadata": {},
     "output_type": "execute_result"
    }
   ],
   "source": [
    "pd.set_option('display.max_colwidth', -1)\n",
    "\n",
    "chillT = pd.merge(ar_val.query(\"arousal >= 0 and arousal < 53\"),metadata, on=\"id\")\n",
    "print(str(chillT.shape[0]) + \" chill tracks\")\n",
    "\n",
    "chillSample = chillT.sample(4)\n",
    "chillSample[[\"artist\",\"track\",\"arousal\",\"preview\"]]"
   ]
  },
  {
   "cell_type": "markdown",
   "metadata": {},
   "source": [
    "### From 53 to 64 : Medium songs"
   ]
  },
  {
   "cell_type": "code",
   "execution_count": 15,
   "metadata": {},
   "outputs": [
    {
     "name": "stdout",
     "output_type": "stream",
     "text": [
      "28605 medium tracks\n"
     ]
    },
    {
     "data": {
      "text/html": [
       "<div>\n",
       "<style scoped>\n",
       "    .dataframe tbody tr th:only-of-type {\n",
       "        vertical-align: middle;\n",
       "    }\n",
       "\n",
       "    .dataframe tbody tr th {\n",
       "        vertical-align: top;\n",
       "    }\n",
       "\n",
       "    .dataframe thead th {\n",
       "        text-align: right;\n",
       "    }\n",
       "</style>\n",
       "<table border=\"1\" class=\"dataframe\">\n",
       "  <thead>\n",
       "    <tr style=\"text-align: right;\">\n",
       "      <th></th>\n",
       "      <th>artist</th>\n",
       "      <th>track</th>\n",
       "      <th>arousal</th>\n",
       "      <th>preview</th>\n",
       "    </tr>\n",
       "  </thead>\n",
       "  <tbody>\n",
       "    <tr>\n",
       "      <th>26042</th>\n",
       "      <td>Patrice</td>\n",
       "      <td>Million Miles (Album Version)</td>\n",
       "      <td>61</td>\n",
       "      <td>https://e-cdns-preview-e.dzcdn.net/stream/efd6aefb1c16ac99ad5f8f6e1c2aa5ea-5.mp3</td>\n",
       "    </tr>\n",
       "    <tr>\n",
       "      <th>21944</th>\n",
       "      <td>Thievery Corporation</td>\n",
       "      <td>The Richest Man in Babylon</td>\n",
       "      <td>56</td>\n",
       "      <td>https://e-cdns-preview-e.dzcdn.net/stream/e76f2f7f1a2a9752602413e69300e45f-2.mp3</td>\n",
       "    </tr>\n",
       "    <tr>\n",
       "      <th>2503</th>\n",
       "      <td>Guns N' Roses</td>\n",
       "      <td>Knockin' On Heaven's Door (Live In London / 1992)</td>\n",
       "      <td>57</td>\n",
       "      <td>https://e-cdns-preview-d.dzcdn.net/stream/d3c1ca970717c2d62c48a154d99f9d00-4.mp3</td>\n",
       "    </tr>\n",
       "    <tr>\n",
       "      <th>6424</th>\n",
       "      <td>Aminé</td>\n",
       "      <td>REDMERCEDES</td>\n",
       "      <td>62</td>\n",
       "      <td>https://e-cdns-preview-5.dzcdn.net/stream/5832fdd66f63133414845ca5a98c3ab4-4.mp3</td>\n",
       "    </tr>\n",
       "  </tbody>\n",
       "</table>\n",
       "</div>"
      ],
      "text/plain": [
       "                     artist  \\\n",
       "26042  Patrice                \n",
       "21944  Thievery Corporation   \n",
       "2503   Guns N' Roses          \n",
       "6424   Aminé                  \n",
       "\n",
       "                                                   track  arousal  \\\n",
       "26042  Million Miles (Album Version)                      61        \n",
       "21944  The Richest Man in Babylon                         56        \n",
       "2503   Knockin' On Heaven's Door (Live In London / 1992)  57        \n",
       "6424   REDMERCEDES                                        62        \n",
       "\n",
       "                                                                                preview  \n",
       "26042  https://e-cdns-preview-e.dzcdn.net/stream/efd6aefb1c16ac99ad5f8f6e1c2aa5ea-5.mp3  \n",
       "21944  https://e-cdns-preview-e.dzcdn.net/stream/e76f2f7f1a2a9752602413e69300e45f-2.mp3  \n",
       "2503   https://e-cdns-preview-d.dzcdn.net/stream/d3c1ca970717c2d62c48a154d99f9d00-4.mp3  \n",
       "6424   https://e-cdns-preview-5.dzcdn.net/stream/5832fdd66f63133414845ca5a98c3ab4-4.mp3  "
      ]
     },
     "execution_count": 15,
     "metadata": {},
     "output_type": "execute_result"
    }
   ],
   "source": [
    "mediumT = pd.merge(ar_val.query(\"arousal >= 53 and arousal < 64\"),metadata, on=\"id\")\n",
    "print(str(mediumT.shape[0]) + \" medium tracks\")\n",
    "\n",
    "mediumSample = mediumT.sample(4)\n",
    "mediumSample[[\"artist\",\"track\",\"arousal\",\"preview\"]]"
   ]
  },
  {
   "cell_type": "markdown",
   "metadata": {},
   "source": [
    "### From 65 to 100 : Hardcore songs"
   ]
  },
  {
   "cell_type": "code",
   "execution_count": 17,
   "metadata": {
    "scrolled": true
   },
   "outputs": [
    {
     "name": "stdout",
     "output_type": "stream",
     "text": [
      "35314 hardcore tracks\n"
     ]
    },
    {
     "data": {
      "text/html": [
       "<div>\n",
       "<style scoped>\n",
       "    .dataframe tbody tr th:only-of-type {\n",
       "        vertical-align: middle;\n",
       "    }\n",
       "\n",
       "    .dataframe tbody tr th {\n",
       "        vertical-align: top;\n",
       "    }\n",
       "\n",
       "    .dataframe thead th {\n",
       "        text-align: right;\n",
       "    }\n",
       "</style>\n",
       "<table border=\"1\" class=\"dataframe\">\n",
       "  <thead>\n",
       "    <tr style=\"text-align: right;\">\n",
       "      <th></th>\n",
       "      <th>artist</th>\n",
       "      <th>track</th>\n",
       "      <th>arousal</th>\n",
       "      <th>preview</th>\n",
       "    </tr>\n",
       "  </thead>\n",
       "  <tbody>\n",
       "    <tr>\n",
       "      <th>15108</th>\n",
       "      <td>The Kooks</td>\n",
       "      <td>Always Where I Need to Be</td>\n",
       "      <td>74</td>\n",
       "      <td>https://e-cdns-preview-e.dzcdn.net/stream/e6bdabdb910936f52a9ae01ad8b7a118-7.mp3</td>\n",
       "    </tr>\n",
       "    <tr>\n",
       "      <th>32119</th>\n",
       "      <td>Johnny Marr</td>\n",
       "      <td>Easy Money</td>\n",
       "      <td>75</td>\n",
       "      <td>https://e-cdns-preview-4.dzcdn.net/stream/42ca19fd7730767b6094504e95eb710e-0.mp3</td>\n",
       "    </tr>\n",
       "    <tr>\n",
       "      <th>24979</th>\n",
       "      <td>Jupiter</td>\n",
       "      <td>One O Six (The Supermen Lovers Classic Remix)</td>\n",
       "      <td>70</td>\n",
       "      <td>https://e-cdns-preview-c.dzcdn.net/stream/cef14b30694374a67870b1c2f85e5692-0.mp3</td>\n",
       "    </tr>\n",
       "    <tr>\n",
       "      <th>25913</th>\n",
       "      <td>Mathieu Bouthier</td>\n",
       "      <td>New York City (Original Radio Edit - French Version)</td>\n",
       "      <td>68</td>\n",
       "      <td>https://e-cdns-preview-6.dzcdn.net/stream/6680cb08205695f2696e40d2d75341cf-3.mp3</td>\n",
       "    </tr>\n",
       "  </tbody>\n",
       "</table>\n",
       "</div>"
      ],
      "text/plain": [
       "                 artist                                                 track  \\\n",
       "15108  The Kooks         Always Where I Need to Be                              \n",
       "32119  Johnny Marr       Easy Money                                             \n",
       "24979  Jupiter           One O Six (The Supermen Lovers Classic Remix)          \n",
       "25913  Mathieu Bouthier  New York City (Original Radio Edit - French Version)   \n",
       "\n",
       "       arousal  \\\n",
       "15108  74        \n",
       "32119  75        \n",
       "24979  70        \n",
       "25913  68        \n",
       "\n",
       "                                                                                preview  \n",
       "15108  https://e-cdns-preview-e.dzcdn.net/stream/e6bdabdb910936f52a9ae01ad8b7a118-7.mp3  \n",
       "32119  https://e-cdns-preview-4.dzcdn.net/stream/42ca19fd7730767b6094504e95eb710e-0.mp3  \n",
       "24979  https://e-cdns-preview-c.dzcdn.net/stream/cef14b30694374a67870b1c2f85e5692-0.mp3  \n",
       "25913  https://e-cdns-preview-6.dzcdn.net/stream/6680cb08205695f2696e40d2d75341cf-3.mp3  "
      ]
     },
     "execution_count": 17,
     "metadata": {},
     "output_type": "execute_result"
    }
   ],
   "source": [
    "hardcoreT = pd.merge(ar_val.query(\"arousal >= 64 and arousal < 100\"),metadata, on=\"id\")\n",
    "print(str(hardcoreT.shape[0]) + \" hardcore tracks\")\n",
    "\n",
    "hardcoreSample = hardcoreT.sample(4)\n",
    "hardcoreSample[[\"artist\",\"track\",\"arousal\",\"preview\"]]"
   ]
  },
  {
   "cell_type": "markdown",
   "metadata": {},
   "source": [
    "# Probability to have a batch of recommendation that contains tracks in all the scales.\n",
    "=> We compute the mean and standard dev of the arousals in all the batches. Then we compute the mean of the mean arousals and the mean of the standard devs. Then we know that we have a probability of 95% to fall between these values."
   ]
  },
  {
   "cell_type": "code",
   "execution_count": 96,
   "metadata": {},
   "outputs": [
    {
     "name": "stdout",
     "output_type": "stream",
     "text": [
      "proportion of batches that possess tracks in all scales : 0.7870057488919121\n"
     ]
    }
   ],
   "source": [
    "### import numpy as np\n",
    "\n",
    "# we convert our recommendation matrix to 'long' format.\n",
    "simLong = pd.DataFrame(np.array(sim).flatten(),columns = ['id'])\n",
    "\n",
    "# we labelise each batch of recommendation\n",
    "simLong['label'] = [el // 31 for el in list(range(0,len(simLong)))]\n",
    "\n",
    "# we add the arousal of the tracks\n",
    "merged = pd.merge(simLong,ar_val, on = [\"id\"])\n",
    "\n",
    "# we group by batch and compute arousal mean and stddev for each batch\n",
    "arousalRanges = merged.groupby(\"label\").agg({'arousal':[np.min,np.max]})\n",
    "arousalRanges[\"min\"] = arousalRanges.arousal.amin\n",
    "arousalRanges[\"max\"] = arousalRanges.arousal.amax\n",
    "mins = arousalRanges['min'] <= 53\n",
    "maxs = arousalRanges['max'] >= 64\n",
    "c = mins & maxs\n",
    "x = c.value_counts()[1]\n",
    "y = c.value_counts()[0]\n",
    "\n",
    "print(\"proportion of batches that possess tracks in all scales : \" + str(x / (x+y)))"
   ]
  }
 ],
 "metadata": {
  "kernelspec": {
   "display_name": "Python 3",
   "language": "python",
   "name": "python3"
  },
  "language_info": {
   "codemirror_mode": {
    "name": "ipython",
    "version": 3
   },
   "file_extension": ".py",
   "mimetype": "text/x-python",
   "name": "python",
   "nbconvert_exporter": "python",
   "pygments_lexer": "ipython3",
   "version": "3.6.4"
  }
 },
 "nbformat": 4,
 "nbformat_minor": 2
}
